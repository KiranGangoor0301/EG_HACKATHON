{
  "cells": [
    {
      "cell_type": "code",
      "execution_count": null,
      "metadata": {
        "id": "mwkWCPlsfEEe"
      },
      "outputs": [],
      "source": [
        "import pandas as pd\n",
        "from sklearn.feature_extraction.text import CountVectorizer\n",
        "from sklearn.ensemble import RandomForestClassifier\n",
        "import nltk\n",
        "from nltk.tokenize import word_tokenize\n"
      ]
    },
    {
      "cell_type": "code",
      "execution_count": null,
      "metadata": {
        "colab": {
          "base_uri": "https://localhost:8080/"
        },
        "id": "7563tzayfGwv",
        "outputId": "ae53f692-c14d-4dd0-d9f2-e27eeab940ed"
      },
      "outputs": [
        {
          "output_type": "stream",
          "name": "stderr",
          "text": [
            "[nltk_data] Downloading package punkt to /root/nltk_data...\n",
            "[nltk_data]   Package punkt is already up-to-date!\n"
          ]
        },
        {
          "output_type": "execute_result",
          "data": {
            "text/plain": [
              "True"
            ]
          },
          "metadata": {},
          "execution_count": 22
        }
      ],
      "source": [
        "nltk.download('punkt')"
      ]
    },
    {
      "cell_type": "code",
      "execution_count": null,
      "metadata": {
        "id": "fgTpTsBqfLa1"
      },
      "outputs": [],
      "source": [
        "def load_dataset(csv_path):\n",
        "    return pd.read_csv(csv_path)\n"
      ]
    },
    {
      "cell_type": "code",
      "execution_count": null,
      "metadata": {
        "id": "0Gn_OGW9fOR8"
      },
      "outputs": [],
      "source": [
        "def preprocess_data(df):\n",
        "    vectorizer = CountVectorizer()\n",
        "    X = vectorizer.fit_transform(df['COBOL'])\n",
        "    y = df['Python']\n",
        "    return X, y, vectorizer"
      ]
    },
    {
      "cell_type": "code",
      "execution_count": null,
      "metadata": {
        "id": "7Bczjdy8fQee"
      },
      "outputs": [],
      "source": [
        "def train_model(X, y):\n",
        "    model = RandomForestClassifier(n_estimators=100, random_state=42)\n",
        "    model.fit(X, y)\n",
        "    return model\n"
      ]
    },
    {
      "cell_type": "code",
      "execution_count": null,
      "metadata": {
        "id": "R0KIXZxEfSUv"
      },
      "outputs": [],
      "source": [
        "def predict_python_keyword(model, vectorizer, cobol_keyword):\n",
        "    cobol_keyword_vectorized = vectorizer.transform([cobol_keyword])\n",
        "    python_keyword = model.predict(cobol_keyword_vectorized)\n",
        "    return python_keyword[0]"
      ]
    },
    {
      "cell_type": "code",
      "execution_count": null,
      "metadata": {
        "id": "yKVGZqZvfU-z"
      },
      "outputs": [],
      "source": [
        "def tokenize_and_predict(model, vectorizer, statement, df):\n",
        "    multi_word_keywords = {\n",
        "        'IS GREATER THAN': '>',\n",
        "        'IS LESSER THAN': '<',\n",
        "        'IS EQUAL TO': '==',\n",
        "        'IS GREATER THAN AND EQUAL TO': '>=',\n",
        "        'IS LESSER THAN AND EQUAL TO': '<='\n",
        "    }\n",
        "\n",
        "    tokens = word_tokenize(statement)\n",
        "\n",
        "    predicted_keywords = []\n",
        "\n",
        "    i = 0\n",
        "    while i < len(tokens):\n",
        "        if i < len(tokens) - 2:\n",
        "            three_word_token = ' '.join(tokens[i:i+3]).upper()\n",
        "            if three_word_token in multi_word_keywords:\n",
        "                predicted_keywords.append(multi_word_keywords[three_word_token])\n",
        "                i += 3\n",
        "                continue\n",
        "\n",
        "        if i < len(tokens) - 3:\n",
        "            four_word_token = ' '.join(tokens[i:i+4]).upper()\n",
        "            if four_word_token in multi_word_keywords:\n",
        "                predicted_keywords.append(multi_word_keywords[four_word_token])\n",
        "                i += 4\n",
        "                continue\n",
        "\n",
        "        if tokens[i].upper() in df['COBOL'].str.upper().values:\n",
        "            predicted_keyword = predict_python_keyword(model, vectorizer, tokens[i].upper())\n",
        "        else:\n",
        "            predicted_keyword = tokens[i]\n",
        "\n",
        "        predicted_keywords.append(predicted_keyword)\n",
        "        i += 1\n",
        "\n",
        "    return predicted_keywords\n"
      ]
    },
    {
      "cell_type": "code",
      "execution_count": null,
      "metadata": {
        "id": "kczQc4ZzfWoJ"
      },
      "outputs": [],
      "source": [
        "# Function to format the Python code\n",
        "def format_python_code(predicted_keywords):\n",
        "    python_code_lines = []\n",
        "    indent_level = 0\n",
        "    indent_spaces = '  '\n",
        "\n",
        "    skip_next = False\n",
        "    display_text = ''\n",
        "\n",
        "    for i, keyword in enumerate(predicted_keywords):\n",
        "        if skip_next:\n",
        "            skip_next = False\n",
        "            continue\n",
        "\n",
        "        # Increase indentation after these keywords\n",
        "        if keyword in ['if', 'elif', 'else:', 'while', 'for']:\n",
        "            line = indent_spaces * indent_level + keyword\n",
        "            python_code_lines.append(line)\n",
        "            indent_level += 1\n",
        "        # Decrease indentation for end of blocks\n",
        "        elif keyword in ['endif', 'endperform', 'endread', 'endwrite']:\n",
        "            indent_level -= 1\n",
        "            line = indent_spaces * indent_level + keyword\n",
        "            python_code_lines.append(line)\n",
        "        # Handle special cases for colons and newlines\n",
        "        elif keyword == ':':\n",
        "            python_code_lines[-1] += ':'\n",
        "            python_code_lines.append('\\n' + indent_spaces * indent_level)\n",
        "        elif keyword == '':\n",
        "            python_code_lines.append('')\n",
        "        # Wrap 'print' statements and other statements that require brackets\n",
        "        elif keyword == 'print':\n",
        "            python_code_lines.append('\\n' + indent_spaces * indent_level + 'print(' + display_text)\n",
        "            display_text = ''  # Reset display_text after printing\n",
        "        elif keyword.startswith('\"') and keyword.endswith('\"'):\n",
        "            display_text = keyword  # Store the quoted text for the print statement\n",
        "        else:\n",
        "            # Handle 'THEN' keyword to avoid printing it\n",
        "            if keyword == 'THEN':\n",
        "                continue\n",
        "            # Add space after the current keyword if it's not followed by a colon\n",
        "            if i + 1 < len(predicted_keywords) and predicted_keywords[i + 1] != ':':\n",
        "                python_code_lines.append(indent_spaces * indent_level + keyword + ' ')\n",
        "            else:\n",
        "                python_code_lines.append(indent_spaces * indent_level + keyword + ')')\n",
        "\n",
        "    # Join all lines into a single string with newlines\n",
        "    formatted_code = ''.join(python_code_lines)\n",
        "\n",
        "    return formatted_code\n"
      ]
    },
    {
      "cell_type": "code",
      "execution_count": null,
      "metadata": {
        "id": "cFjydyitfZTE"
      },
      "outputs": [],
      "source": [
        "def main():\n",
        "    csv_path = '/content/cobol_to_python_mapping.csv'\n",
        "    df = load_dataset(csv_path)\n",
        "\n",
        "    X, y, vectorizer = preprocess_data(df)\n",
        "\n",
        "    model = train_model(X, y)\n",
        "\n",
        "    while True:\n",
        "        statement = input(\"Enter a statement to tokenize (or type 'exit' to quit): \")\n",
        "\n",
        "        if statement.lower() == 'exit':\n",
        "            print(\"Exiting the program.\")\n",
        "            break\n",
        "\n",
        "        if any(char.islower() for char in statement):\n",
        "            print(\"Error: Statement must contain only uppercase characters.\")\n",
        "            continue\n",
        "\n",
        "        predicted_keywords = tokenize_and_predict(model, vectorizer, statement, df)\n",
        "\n",
        "        python_code = format_python_code(predicted_keywords)\n",
        "\n",
        "        print(\"Formatted Python Code:\\n\", python_code)\n",
        "\n",
        "\n"
      ]
    },
    {
      "cell_type": "code",
      "execution_count": 30,
      "metadata": {
        "colab": {
          "base_uri": "https://localhost:8080/",
          "height": 371
        },
        "id": "1HVYh20vDhE6",
        "outputId": "890eec5e-e13b-4052-eae3-df625e28410e"
      },
      "outputs": [
        {
          "metadata": {
            "tags": null
          },
          "name": "stdout",
          "output_type": "stream",
          "text": [
            "Formatted Python Code:\n",
            " \n",
            "print(`` HELLO '')\n"
          ]
        },
        {
          "output_type": "error",
          "ename": "KeyboardInterrupt",
          "evalue": "Interrupted by user",
          "traceback": [
            "\u001b[0;31m---------------------------------------------------------------------------\u001b[0m",
            "\u001b[0;31mKeyboardInterrupt\u001b[0m                         Traceback (most recent call last)",
            "\u001b[0;32m<ipython-input-30-972361fa1b80>\u001b[0m in \u001b[0;36m<cell line: 1>\u001b[0;34m()\u001b[0m\n\u001b[1;32m      1\u001b[0m \u001b[0;32mif\u001b[0m \u001b[0m__name__\u001b[0m \u001b[0;34m==\u001b[0m \u001b[0;34m\"__main__\"\u001b[0m\u001b[0;34m:\u001b[0m\u001b[0;34m\u001b[0m\u001b[0;34m\u001b[0m\u001b[0m\n\u001b[0;32m----> 2\u001b[0;31m     \u001b[0mmain\u001b[0m\u001b[0;34m(\u001b[0m\u001b[0;34m)\u001b[0m\u001b[0;34m\u001b[0m\u001b[0;34m\u001b[0m\u001b[0m\n\u001b[0m",
            "\u001b[0;32m<ipython-input-29-aef288f1d4db>\u001b[0m in \u001b[0;36mmain\u001b[0;34m()\u001b[0m\n\u001b[1;32m      8\u001b[0m \u001b[0;34m\u001b[0m\u001b[0m\n\u001b[1;32m      9\u001b[0m     \u001b[0;32mwhile\u001b[0m \u001b[0;32mTrue\u001b[0m\u001b[0;34m:\u001b[0m\u001b[0;34m\u001b[0m\u001b[0;34m\u001b[0m\u001b[0m\n\u001b[0;32m---> 10\u001b[0;31m         \u001b[0mstatement\u001b[0m \u001b[0;34m=\u001b[0m \u001b[0minput\u001b[0m\u001b[0;34m(\u001b[0m\u001b[0;34m\"Enter a statement to tokenize (or type 'exit' to quit): \"\u001b[0m\u001b[0;34m)\u001b[0m\u001b[0;34m\u001b[0m\u001b[0;34m\u001b[0m\u001b[0m\n\u001b[0m\u001b[1;32m     11\u001b[0m \u001b[0;34m\u001b[0m\u001b[0m\n\u001b[1;32m     12\u001b[0m         \u001b[0;32mif\u001b[0m \u001b[0mstatement\u001b[0m\u001b[0;34m.\u001b[0m\u001b[0mlower\u001b[0m\u001b[0;34m(\u001b[0m\u001b[0;34m)\u001b[0m \u001b[0;34m==\u001b[0m \u001b[0;34m'exit'\u001b[0m\u001b[0;34m:\u001b[0m\u001b[0;34m\u001b[0m\u001b[0;34m\u001b[0m\u001b[0m\n",
            "\u001b[0;32m/usr/local/lib/python3.10/dist-packages/ipykernel/kernelbase.py\u001b[0m in \u001b[0;36mraw_input\u001b[0;34m(self, prompt)\u001b[0m\n\u001b[1;32m    849\u001b[0m                 \u001b[0;34m\"raw_input was called, but this frontend does not support input requests.\"\u001b[0m\u001b[0;34m\u001b[0m\u001b[0;34m\u001b[0m\u001b[0m\n\u001b[1;32m    850\u001b[0m             )\n\u001b[0;32m--> 851\u001b[0;31m         return self._input_request(str(prompt),\n\u001b[0m\u001b[1;32m    852\u001b[0m             \u001b[0mself\u001b[0m\u001b[0;34m.\u001b[0m\u001b[0m_parent_ident\u001b[0m\u001b[0;34m,\u001b[0m\u001b[0;34m\u001b[0m\u001b[0;34m\u001b[0m\u001b[0m\n\u001b[1;32m    853\u001b[0m             \u001b[0mself\u001b[0m\u001b[0;34m.\u001b[0m\u001b[0m_parent_header\u001b[0m\u001b[0;34m,\u001b[0m\u001b[0;34m\u001b[0m\u001b[0;34m\u001b[0m\u001b[0m\n",
            "\u001b[0;32m/usr/local/lib/python3.10/dist-packages/ipykernel/kernelbase.py\u001b[0m in \u001b[0;36m_input_request\u001b[0;34m(self, prompt, ident, parent, password)\u001b[0m\n\u001b[1;32m    893\u001b[0m             \u001b[0;32mexcept\u001b[0m \u001b[0mKeyboardInterrupt\u001b[0m\u001b[0;34m:\u001b[0m\u001b[0;34m\u001b[0m\u001b[0;34m\u001b[0m\u001b[0m\n\u001b[1;32m    894\u001b[0m                 \u001b[0;31m# re-raise KeyboardInterrupt, to truncate traceback\u001b[0m\u001b[0;34m\u001b[0m\u001b[0;34m\u001b[0m\u001b[0m\n\u001b[0;32m--> 895\u001b[0;31m                 \u001b[0;32mraise\u001b[0m \u001b[0mKeyboardInterrupt\u001b[0m\u001b[0;34m(\u001b[0m\u001b[0;34m\"Interrupted by user\"\u001b[0m\u001b[0;34m)\u001b[0m \u001b[0;32mfrom\u001b[0m \u001b[0;32mNone\u001b[0m\u001b[0;34m\u001b[0m\u001b[0;34m\u001b[0m\u001b[0m\n\u001b[0m\u001b[1;32m    896\u001b[0m             \u001b[0;32mexcept\u001b[0m \u001b[0mException\u001b[0m \u001b[0;32mas\u001b[0m \u001b[0me\u001b[0m\u001b[0;34m:\u001b[0m\u001b[0;34m\u001b[0m\u001b[0;34m\u001b[0m\u001b[0m\n\u001b[1;32m    897\u001b[0m                 \u001b[0mself\u001b[0m\u001b[0;34m.\u001b[0m\u001b[0mlog\u001b[0m\u001b[0;34m.\u001b[0m\u001b[0mwarning\u001b[0m\u001b[0;34m(\u001b[0m\u001b[0;34m\"Invalid Message:\"\u001b[0m\u001b[0;34m,\u001b[0m \u001b[0mexc_info\u001b[0m\u001b[0;34m=\u001b[0m\u001b[0;32mTrue\u001b[0m\u001b[0;34m)\u001b[0m\u001b[0;34m\u001b[0m\u001b[0;34m\u001b[0m\u001b[0m\n",
            "\u001b[0;31mKeyboardInterrupt\u001b[0m: Interrupted by user"
          ]
        }
      ],
      "source": [
        "if __name__ == \"__main__\":\n",
        "    main()"
      ]
    },
    {
      "cell_type": "code",
      "execution_count": null,
      "metadata": {
        "id": "l_9zge2IAaE8"
      },
      "outputs": [],
      "source": [
        "\n"
      ]
    },
    {
      "cell_type": "code",
      "execution_count": null,
      "metadata": {
        "id": "sgKMZndsuqZk"
      },
      "outputs": [],
      "source": []
    }
  ],
  "metadata": {
    "colab": {
      "provenance": []
    },
    "kernelspec": {
      "display_name": "Python 3",
      "name": "python3"
    },
    "language_info": {
      "name": "python"
    }
  },
  "nbformat": 4,
  "nbformat_minor": 0
}